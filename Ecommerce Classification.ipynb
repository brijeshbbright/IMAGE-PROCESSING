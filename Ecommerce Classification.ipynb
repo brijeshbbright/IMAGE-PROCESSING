{
 "cells": [
  {
   "cell_type": "markdown",
   "id": "13a66f2d",
   "metadata": {},
   "source": [
    "### Import necessary libraries"
   ]
  },
  {
   "cell_type": "code",
   "execution_count": 6,
   "id": "35d23f65",
   "metadata": {},
   "outputs": [],
   "source": [
    "import numpy as np\n",
    "import matplotlib as plt\n",
    "import seaborn as sns\n",
    "import glob\n",
    "from sklearn.utils import shuffle\n",
    "from skimage.transform import resize"
   ]
  },
  {
   "cell_type": "markdown",
   "id": "41b136f4",
   "metadata": {},
   "source": [
    "### Read all the file names in all 4 folders (jeans, sofa, tshirt, tv)"
   ]
  },
  {
   "cell_type": "code",
   "execution_count": 7,
   "id": "0467d60e",
   "metadata": {},
   "outputs": [],
   "source": [
    "jeans = glob.glob('ecommerce products/jeans/*.jpg')\n",
    "sofa = glob.glob('ecommerce products/sofa/*.jpg')\n",
    "tshirt = glob.glob('ecommerce products/tshirt/*.jpg')\n",
    "tv = glob.glob('ecommerce products/tv/*.jpg')"
   ]
  },
  {
   "cell_type": "markdown",
   "id": "d6498548",
   "metadata": {},
   "source": [
    "### Read image data from all files and store it in a variable, Store the label as well"
   ]
  },
  {
   "cell_type": "code",
   "execution_count": 8,
   "id": "13b88cd5",
   "metadata": {},
   "outputs": [],
   "source": [
    "image = []\n",
    "label = []\n",
    "\n",
    "for i in jeans:\n",
    "    img = plt.imread(i)\n",
    "    image.append(img)\n",
    "    label.append(0)\n",
    "    \n",
    "for i in sofa:\n",
    "    img = plt.imread(i)\n",
    "    image.append(img)\n",
    "    label.append(1)\n",
    "    \n",
    "for i in tshirt:\n",
    "    img = plt.imread(i)\n",
    "    image.append(img)\n",
    "    label.append(2)\n",
    "    \n",
    "for i in tv:\n",
    "    img = plt.imread(i)\n",
    "    image.append(img)\n",
    "    label.append(3)"
   ]
  },
  {
   "cell_type": "markdown",
   "id": "97575c9f",
   "metadata": {},
   "source": [
    "### Plot some of the images"
   ]
  },
  {
   "cell_type": "code",
   "execution_count": 9,
   "id": "6592cf23",
   "metadata": {},
   "outputs": [
    {
     "ename": "TypeError",
     "evalue": "'module' object is not callable",
     "output_type": "error",
     "traceback": [
      "\u001b[1;31m---------------------------------------------------------------------------\u001b[0m",
      "\u001b[1;31mTypeError\u001b[0m                                 Traceback (most recent call last)",
      "\u001b[1;32m~\\AppData\\Local\\Temp\\ipykernel_2724\\1056264124.py\u001b[0m in \u001b[0;36m<module>\u001b[1;34m\u001b[0m\n\u001b[1;32m----> 1\u001b[1;33m \u001b[0mplt\u001b[0m\u001b[1;33m.\u001b[0m\u001b[0mfigure\u001b[0m\u001b[1;33m(\u001b[0m\u001b[0mfigsize\u001b[0m \u001b[1;33m=\u001b[0m \u001b[1;33m(\u001b[0m\u001b[1;36m10\u001b[0m\u001b[1;33m,\u001b[0m\u001b[1;36m8\u001b[0m\u001b[1;33m)\u001b[0m\u001b[1;33m)\u001b[0m\u001b[1;33m\u001b[0m\u001b[1;33m\u001b[0m\u001b[0m\n\u001b[0m\u001b[0;32m      2\u001b[0m \u001b[1;32mfor\u001b[0m \u001b[0mi\u001b[0m \u001b[1;32min\u001b[0m \u001b[0mrange\u001b[0m\u001b[1;33m(\u001b[0m\u001b[1;36m12\u001b[0m\u001b[1;33m)\u001b[0m\u001b[1;33m:\u001b[0m\u001b[1;33m\u001b[0m\u001b[1;33m\u001b[0m\u001b[0m\n\u001b[0;32m      3\u001b[0m     \u001b[0mplt\u001b[0m\u001b[1;33m.\u001b[0m\u001b[0msubplot\u001b[0m\u001b[1;33m(\u001b[0m\u001b[1;36m3\u001b[0m\u001b[1;33m,\u001b[0m\u001b[1;36m4\u001b[0m\u001b[1;33m,\u001b[0m\u001b[0mi\u001b[0m\u001b[1;33m+\u001b[0m\u001b[1;36m1\u001b[0m\u001b[1;33m)\u001b[0m\u001b[1;33m\u001b[0m\u001b[1;33m\u001b[0m\u001b[0m\n\u001b[0;32m      4\u001b[0m     \u001b[0mplt\u001b[0m\u001b[1;33m.\u001b[0m\u001b[0mimshow\u001b[0m\u001b[1;33m(\u001b[0m\u001b[0mimage\u001b[0m\u001b[1;33m[\u001b[0m\u001b[0mi\u001b[0m\u001b[1;33m]\u001b[0m\u001b[1;33m)\u001b[0m\u001b[1;33m\u001b[0m\u001b[1;33m\u001b[0m\u001b[0m\n\u001b[0;32m      5\u001b[0m \u001b[0mplt\u001b[0m\u001b[1;33m.\u001b[0m\u001b[0mtight_layout\u001b[0m\u001b[1;33m(\u001b[0m\u001b[1;33m)\u001b[0m\u001b[1;33m\u001b[0m\u001b[1;33m\u001b[0m\u001b[0m\n",
      "\u001b[1;31mTypeError\u001b[0m: 'module' object is not callable"
     ]
    }
   ],
   "source": [
    "plt.figure(figsize = (10,8))\n",
    "for i in range(12):\n",
    "    plt.subplot(3,4,i+1)\n",
    "    plt.imshow(image[i])\n",
    "plt.tight_layout()"
   ]
  },
  {
   "cell_type": "markdown",
   "id": "923a937d",
   "metadata": {},
   "source": [
    "As you can see, all first images are of jeans. We can use shuffle function in sklearn to shuffle the image data and labels"
   ]
  },
  {
   "cell_type": "markdown",
   "id": "4b518a6a",
   "metadata": {},
   "source": [
    "### Shuffle images and labels "
   ]
  },
  {
   "cell_type": "code",
   "execution_count": 10,
   "id": "d3ed1dda",
   "metadata": {},
   "outputs": [],
   "source": [
    "image, label = shuffle(image, label)"
   ]
  },
  {
   "cell_type": "markdown",
   "id": "07dd248a",
   "metadata": {},
   "source": [
    "### Plot the images once again"
   ]
  },
  {
   "cell_type": "code",
   "execution_count": 11,
   "id": "0e7bc6c7",
   "metadata": {},
   "outputs": [
    {
     "ename": "TypeError",
     "evalue": "'module' object is not callable",
     "output_type": "error",
     "traceback": [
      "\u001b[1;31m---------------------------------------------------------------------------\u001b[0m",
      "\u001b[1;31mTypeError\u001b[0m                                 Traceback (most recent call last)",
      "\u001b[1;32m~\\AppData\\Local\\Temp\\ipykernel_2724\\1056264124.py\u001b[0m in \u001b[0;36m<module>\u001b[1;34m\u001b[0m\n\u001b[1;32m----> 1\u001b[1;33m \u001b[0mplt\u001b[0m\u001b[1;33m.\u001b[0m\u001b[0mfigure\u001b[0m\u001b[1;33m(\u001b[0m\u001b[0mfigsize\u001b[0m \u001b[1;33m=\u001b[0m \u001b[1;33m(\u001b[0m\u001b[1;36m10\u001b[0m\u001b[1;33m,\u001b[0m\u001b[1;36m8\u001b[0m\u001b[1;33m)\u001b[0m\u001b[1;33m)\u001b[0m\u001b[1;33m\u001b[0m\u001b[1;33m\u001b[0m\u001b[0m\n\u001b[0m\u001b[0;32m      2\u001b[0m \u001b[1;32mfor\u001b[0m \u001b[0mi\u001b[0m \u001b[1;32min\u001b[0m \u001b[0mrange\u001b[0m\u001b[1;33m(\u001b[0m\u001b[1;36m12\u001b[0m\u001b[1;33m)\u001b[0m\u001b[1;33m:\u001b[0m\u001b[1;33m\u001b[0m\u001b[1;33m\u001b[0m\u001b[0m\n\u001b[0;32m      3\u001b[0m     \u001b[0mplt\u001b[0m\u001b[1;33m.\u001b[0m\u001b[0msubplot\u001b[0m\u001b[1;33m(\u001b[0m\u001b[1;36m3\u001b[0m\u001b[1;33m,\u001b[0m\u001b[1;36m4\u001b[0m\u001b[1;33m,\u001b[0m\u001b[0mi\u001b[0m\u001b[1;33m+\u001b[0m\u001b[1;36m1\u001b[0m\u001b[1;33m)\u001b[0m\u001b[1;33m\u001b[0m\u001b[1;33m\u001b[0m\u001b[0m\n\u001b[0;32m      4\u001b[0m     \u001b[0mplt\u001b[0m\u001b[1;33m.\u001b[0m\u001b[0mimshow\u001b[0m\u001b[1;33m(\u001b[0m\u001b[0mimage\u001b[0m\u001b[1;33m[\u001b[0m\u001b[0mi\u001b[0m\u001b[1;33m]\u001b[0m\u001b[1;33m)\u001b[0m\u001b[1;33m\u001b[0m\u001b[1;33m\u001b[0m\u001b[0m\n\u001b[0;32m      5\u001b[0m \u001b[0mplt\u001b[0m\u001b[1;33m.\u001b[0m\u001b[0mtight_layout\u001b[0m\u001b[1;33m(\u001b[0m\u001b[1;33m)\u001b[0m\u001b[1;33m\u001b[0m\u001b[1;33m\u001b[0m\u001b[0m\n",
      "\u001b[1;31mTypeError\u001b[0m: 'module' object is not callable"
     ]
    }
   ],
   "source": [
    "plt.figure(figsize = (10,8))\n",
    "for i in range(12):\n",
    "    plt.subplot(3,4,i+1)\n",
    "    plt.imshow(image[i])\n",
    "plt.tight_layout()"
   ]
  },
  {
   "cell_type": "markdown",
   "id": "e826f039",
   "metadata": {},
   "source": [
    "### Check the shape of some of the images"
   ]
  },
  {
   "cell_type": "code",
   "execution_count": 19,
   "id": "9f351b1d",
   "metadata": {},
   "outputs": [
    {
     "name": "stdout",
     "output_type": "stream",
     "text": [
      "(1024, 1024, 3)\n",
      "(641, 480, 3)\n",
      "(2560, 2560, 3)\n",
      "(1242, 1263, 3)\n",
      "(641, 480, 3)\n",
      "(655, 513, 3)\n",
      "(655, 513, 3)\n",
      "(655, 513, 3)\n",
      "(656, 513, 3)\n",
      "(656, 513, 3)\n"
     ]
    }
   ],
   "source": [
    "for i in range(10):\n",
    "    print(image[i].shape)"
   ]
  },
  {
   "cell_type": "markdown",
   "id": "511756f4",
   "metadata": {},
   "source": [
    "As you can see, the geometry of each of the images vary. We have to resize all the image to have the same dimensions"
   ]
  },
  {
   "cell_type": "markdown",
   "id": "0de36009",
   "metadata": {},
   "source": [
    "### Resize all the images to a same height and width"
   ]
  },
  {
   "cell_type": "code",
   "execution_count": 20,
   "id": "d9e31efd",
   "metadata": {},
   "outputs": [],
   "source": [
    "X = []\n",
    "\n",
    "for i in image:\n",
    "    X.append(resize(i, (500,500,3)))"
   ]
  },
  {
   "cell_type": "markdown",
   "id": "bb02c29c",
   "metadata": {},
   "source": [
    "### Convert images and labels to numpy array and store them as X and y variables"
   ]
  },
  {
   "cell_type": "code",
   "execution_count": 24,
   "id": "a80a9915",
   "metadata": {},
   "outputs": [],
   "source": [
    "X = np.array(X)"
   ]
  },
  {
   "cell_type": "code",
   "execution_count": 27,
   "id": "a49b1b29",
   "metadata": {},
   "outputs": [],
   "source": [
    "y = np.array(label)"
   ]
  },
  {
   "cell_type": "markdown",
   "id": "de8bb026",
   "metadata": {},
   "source": [
    "### Reshape the images to 1 dimension"
   ]
  },
  {
   "cell_type": "code",
   "execution_count": 32,
   "id": "05fd58c1",
   "metadata": {},
   "outputs": [],
   "source": [
    "d1, d2, d3, d4 = X.shape"
   ]
  },
  {
   "cell_type": "code",
   "execution_count": 33,
   "id": "06e4b4a2",
   "metadata": {},
   "outputs": [],
   "source": [
    "X = X.reshape((d1, d2*d3*d4))"
   ]
  },
  {
   "cell_type": "markdown",
   "id": "e713102b",
   "metadata": {},
   "source": [
    "### Train test Split"
   ]
  },
  {
   "cell_type": "code",
   "execution_count": 35,
   "id": "17c199e8",
   "metadata": {},
   "outputs": [],
   "source": [
    "from sklearn.model_selection import train_test_split"
   ]
  },
  {
   "cell_type": "code",
   "execution_count": 36,
   "id": "5e9ab90a",
   "metadata": {},
   "outputs": [],
   "source": [
    "X_train, X_test, y_train, y_test = train_test_split(X,y, test_size = 0.2)"
   ]
  },
  {
   "cell_type": "markdown",
   "id": "7f5d172a",
   "metadata": {},
   "source": [
    "### Create SVM Model and train it"
   ]
  },
  {
   "cell_type": "code",
   "execution_count": 37,
   "id": "47bcbdc2",
   "metadata": {},
   "outputs": [],
   "source": [
    "from sklearn.svm import SVC"
   ]
  },
  {
   "cell_type": "code",
   "execution_count": 38,
   "id": "42e90f05",
   "metadata": {},
   "outputs": [],
   "source": [
    "model = SVC()"
   ]
  },
  {
   "cell_type": "code",
   "execution_count": 39,
   "id": "d96274d7",
   "metadata": {},
   "outputs": [
    {
     "name": "stdout",
     "output_type": "stream",
     "text": [
      "CPU times: total: 7min 42s\n",
      "Wall time: 2min 19s\n"
     ]
    },
    {
     "data": {
      "text/plain": [
       "SVC()"
      ]
     },
     "execution_count": 39,
     "metadata": {},
     "output_type": "execute_result"
    }
   ],
   "source": [
    "%time model.fit(X_train, y_train)"
   ]
  },
  {
   "cell_type": "markdown",
   "id": "a5a87d24",
   "metadata": {},
   "source": [
    "### Make predictions with X_test"
   ]
  },
  {
   "cell_type": "code",
   "execution_count": 40,
   "id": "2b87fc76",
   "metadata": {},
   "outputs": [
    {
     "name": "stdout",
     "output_type": "stream",
     "text": [
      "CPU times: total: 10min 54s\n",
      "Wall time: 2min 55s\n"
     ]
    }
   ],
   "source": [
    "%time y_pred = model.predict(X_test)"
   ]
  },
  {
   "cell_type": "markdown",
   "id": "45c9f64d",
   "metadata": {},
   "source": [
    "### Evaluate the model"
   ]
  },
  {
   "cell_type": "code",
   "execution_count": 41,
   "id": "bab68551",
   "metadata": {},
   "outputs": [],
   "source": [
    "from sklearn.metrics import accuracy_score, confusion_matrix, classification_report"
   ]
  },
  {
   "cell_type": "code",
   "execution_count": 42,
   "id": "409627d9",
   "metadata": {},
   "outputs": [
    {
     "data": {
      "text/plain": [
       "0.95625"
      ]
     },
     "execution_count": 42,
     "metadata": {},
     "output_type": "execute_result"
    }
   ],
   "source": [
    "accuracy_score(y_test,y_pred)"
   ]
  },
  {
   "cell_type": "code",
   "execution_count": 43,
   "id": "de4df351",
   "metadata": {},
   "outputs": [
    {
     "data": {
      "text/plain": [
       "<AxesSubplot:>"
      ]
     },
     "execution_count": 43,
     "metadata": {},
     "output_type": "execute_result"
    },
    {
     "data": {
      "image/png": "[encoded data removed]",
      "text/plain": [
       "<Figure size 432x288 with 2 Axes>"
      ]
     },
     "metadata": {
      "needs_background": "light"
     },
     "output_type": "display_data"
    }
   ],
   "source": [
    "sns.heatmap(confusion_matrix(y_test,y_pred), annot = True)"
   ]
  },
  {
   "cell_type": "code",
   "execution_count": 44,
   "id": "b47a4e51",
   "metadata": {},
   "outputs": [
    {
     "name": "stdout",
     "output_type": "stream",
     "text": [
      "              precision    recall  f1-score   support\n",
      "\n",
      "           0       0.97      0.91      0.94        34\n",
      "           1       1.00      0.98      0.99        57\n",
      "           2       0.90      1.00      0.95        37\n",
      "           3       0.94      0.91      0.92        32\n",
      "\n",
      "    accuracy                           0.96       160\n",
      "   macro avg       0.95      0.95      0.95       160\n",
      "weighted avg       0.96      0.96      0.96       160\n",
      "\n"
     ]
    }
   ],
   "source": [
    "print(classification_report(y_test,y_pred))"
   ]
  },
  {
   "cell_type": "markdown",
   "id": "f3baff10",
   "metadata": {},
   "source": [
    "***"
   ]
  }
 ],
 "metadata": {
  "kernelspec": {
   "display_name": "Python 3 (ipykernel)",
   "language": "python",
   "name": "python3"
  },
  "language_info": {
   "codemirror_mode": {
    "name": "ipython",
    "version": 3
   },
   "file_extension": ".py",
   "mimetype": "text/x-python",
   "name": "python",
   "nbconvert_exporter": "python",
   "pygments_lexer": "ipython3",
   "version": "3.9.13"
  }
 },
 "nbformat": 4,
 "nbformat_minor": 5
}
